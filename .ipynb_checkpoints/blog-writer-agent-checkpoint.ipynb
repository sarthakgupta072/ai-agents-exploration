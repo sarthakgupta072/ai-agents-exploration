{
 "cells": [
  {
   "cell_type": "code",
   "execution_count": 1,
   "metadata": {},
   "outputs": [],
   "source": [
    "%%capture --no-stderr\n",
    "%pip install --quiet -U langgraph langchain_openai langchain_community langchain_core"
   ]
  },
  {
   "cell_type": "code",
   "execution_count": 4,
   "metadata": {},
   "outputs": [],
   "source": [
    "import os, getpass\n",
    "\n",
    "def _set_env(var: str):\n",
    "    if not os.environ.get(var):\n",
    "        os.environ[var] = getpass.getpass(f\"{var}: \")\n",
    "\n",
    "_set_env(\"OPENAI_API_KEY\")"
   ]
  },
  {
   "cell_type": "code",
   "execution_count": 5,
   "metadata": {},
   "outputs": [],
   "source": [
    "from langchain_openai import ChatOpenAI\n",
    "llm = ChatOpenAI(model=\"gpt-4o\", temperature=0) "
   ]
  },
  {
   "cell_type": "markdown",
   "metadata": {},
   "source": [
    "### Simple LLM Call"
   ]
  },
  {
   "cell_type": "code",
   "execution_count": 6,
   "metadata": {},
   "outputs": [
    {
     "name": "stdout",
     "output_type": "stream",
     "text": [
      "==================================\u001b[1m Ai Message \u001b[0m==================================\n",
      "\n",
      " \n",
      "\n",
      "You are a professional blog writer. You write high quality blogs on various topics related to productivity. Your task is to write a blog on \n",
      "the topic: How to form your own deep work ritual?. Write the blog as a normal human would write. Don't us complex words\n"
     ]
    },
    {
     "data": {
      "text/plain": [
       "AIMessage(content=\"# How to Form Your Own Deep Work Ritual\\n\\nIn our fast-paced, distraction-filled world, achieving a state of deep work—where you can focus intensely on a task without interruption—can feel like an elusive goal. Yet, it's in these moments of deep concentration that we produce our best work, solve complex problems, and truly tap into our creative potential. The key to consistently reaching this state lies in forming your own deep work ritual. Here’s how you can create a ritual that works for you.\\n\\n## 1. Understand the Importance of Deep Work\\n\\nBefore diving into creating a ritual, it's crucial to understand why deep work is valuable. Deep work allows you to produce high-quality work in less time, enhances your skills, and provides a sense of fulfillment. Recognizing its importance will motivate you to prioritize and protect your deep work sessions.\\n\\n## 2. Identify Your Peak Productivity Hours\\n\\nEveryone has certain times of the day when they are naturally more focused and energetic. For some, this might be early in the morning, while others might find their groove in the afternoon or evening. Pay attention to your energy levels and mental clarity throughout the day to identify your peak productivity hours. Schedule your deep work sessions during these times to maximize your focus and output.\\n\\n## 3. Designate a Specific Workspace\\n\\nHaving a dedicated workspace for deep work can help signal to your brain that it’s time to focus. This doesn’t necessarily mean you need a separate office; it could be a specific corner of your room or a particular seat at a library or café. The key is consistency. Over time, your brain will associate this space with deep work, making it easier to slip into a focused state.\\n\\n## 4. Minimize Distractions\\n\\nDistractions are the enemy of deep work. Before starting your session, take steps to minimize potential interruptions. This might include turning off notifications on your devices, using noise-canceling headphones, or informing others that you’re not to be disturbed. Consider using apps or tools that block distracting websites or limit your screen time.\\n\\n## 5. Create a Pre-Work Ritual\\n\\nA pre-work ritual can help transition your mind from a state of distraction to one of focus. This could be as simple as making a cup of tea, doing a few minutes of meditation, or reviewing your goals for the session. The ritual should be personal and meaningful to you, serving as a mental cue that it’s time to concentrate.\\n\\n## 6. Set Clear Goals\\n\\nBefore diving into your deep work session, set clear, achievable goals. Knowing exactly what you want to accomplish will help maintain your focus and provide a sense of direction. Break larger tasks into smaller, manageable steps to avoid feeling overwhelmed.\\n\\n## 7. Use Time Blocks\\n\\nTime blocking is an effective technique for maintaining focus. Decide in advance how long your deep work session will last—typically between 60 to 90 minutes—and commit to working without interruption for that period. Use a timer to keep track, and take short breaks between sessions to recharge.\\n\\n## 8. Reflect and Adjust\\n\\nAfter each deep work session, take a few minutes to reflect on what went well and what could be improved. Did you achieve your goals? Were there any distractions? Use these insights to adjust your ritual and make it more effective over time.\\n\\n## 9. Be Consistent\\n\\nConsistency is key to forming any habit, and deep work is no exception. Try to incorporate deep work sessions into your daily or weekly routine. The more regularly you practice, the easier it will become to enter a state of deep focus.\\n\\n## 10. Be Patient\\n\\nForming a deep work ritual takes time and experimentation. Be patient with yourself as you discover what works best for you. Remember, the goal is to create a sustainable practice that enhances your productivity and creativity.\\n\\nBy following these steps, you can create a deep work ritual that suits your unique needs and preferences. With practice, you’ll find yourself entering a state of deep focus more easily, allowing you to produce your best work and achieve your goals. Happy focusing!\", additional_kwargs={'refusal': None}, response_metadata={'token_usage': {'completion_tokens': 821, 'prompt_tokens': 63, 'total_tokens': 884, 'completion_tokens_details': {'accepted_prediction_tokens': 0, 'audio_tokens': 0, 'reasoning_tokens': 0, 'rejected_prediction_tokens': 0}, 'prompt_tokens_details': {'audio_tokens': 0, 'cached_tokens': 0}}, 'model_name': 'gpt-4o-2024-08-06', 'system_fingerprint': 'fp_eb9dce56a8', 'finish_reason': 'stop', 'logprobs': None}, id='run-e869d83b-7568-4dd7-82e1-8bcc055b8f1c-0', usage_metadata={'input_tokens': 63, 'output_tokens': 821, 'total_tokens': 884, 'input_token_details': {'audio': 0, 'cache_read': 0}, 'output_token_details': {'audio': 0, 'reasoning': 0}})"
      ]
     },
     "execution_count": 6,
     "metadata": {},
     "output_type": "execute_result"
    }
   ],
   "source": [
    "from email import message\n",
    "from typing import TypedDict\n",
    "from IPython.display import Image, display\n",
    "from langgraph.graph import START, END, MessagesState, StateGraph\n",
    "from langgraph.checkpoint.memory import MemorySaver\n",
    "from langchain_core.messages import AIMessage, HumanMessage, SystemMessage\n",
    "\n",
    "create_blog_prompt = \"\"\" \n",
    "\n",
    "You are a professional blog writer. You write high quality blogs on various topics related to productivity. Your task is to write a blog on \n",
    "the topic: {topic}. Write the blog as a normal human would write. Don't use complex words\n",
    "\"\"\"\n",
    "\n",
    "TOPIC = \"How to form your own deep work ritual?\"\n",
    "\n",
    "messages = [AIMessage(create_blog_prompt.format(topic=TOPIC))]\n",
    "for m in messages:\n",
    "    m.pretty_print()   \n",
    "llm.invoke(messages)"
   ]
  },
  {
   "cell_type": "markdown",
   "metadata": {},
   "source": [
    "### Simple Langgraph call"
   ]
  },
  {
   "cell_type": "code",
   "execution_count": 22,
   "metadata": {},
   "outputs": [
    {
     "name": "stdout",
     "output_type": "stream",
     "text": [
      "==================================\u001b[1m Ai Message \u001b[0m==================================\n",
      "\n",
      " \n",
      "\n",
      "You are a professional blog writer. You write high quality blogs on various topics related to productivity. Your task is to write a blog on \n",
      "the topic: How to form your own deep work ritual?. Write the blog as a normal human would write. Don't use complex words\n"
     ]
    },
    {
     "data": {
      "image/png": "[encoded data removed]",
      "text/plain": [
       "<IPython.core.display.Image object>"
      ]
     },
     "metadata": {},
     "output_type": "display_data"
    }
   ],
   "source": [
    "class BlogState(TypedDict):\n",
    "    messages: str\n",
    "\n",
    "\n",
    "create_blog_prompt = \"\"\" \n",
    "\n",
    "You are a professional blog writer. You write high quality blogs on various topics related to productivity. Your task is to write a blog on \n",
    "the topic: {topic}. Write the blog as a normal human would write. Don't use complex words\n",
    "\"\"\"\n",
    "\n",
    "TOPIC = \"How to form your own deep work ritual?\"\n",
    "\n",
    "messages = [AIMessage(content=create_blog_prompt.format(topic=TOPIC))]\n",
    "for m in messages:\n",
    "    m.pretty_print()\n",
    "\n",
    "def create_blog(state: BlogState):\n",
    "    print(\"inside create_blog. State:\", state)\n",
    "    return {\"messages\": llm.invoke(state[\"messages\"])}\n",
    "\n",
    "builder = StateGraph(BlogState)\n",
    "builder.add_node(\"create_blog\", create_blog)\n",
    "builder.add_edge(START, \"create_blog\")\n",
    "builder.add_edge(\"create_blog\", END)\n",
    "\n",
    "graph = builder.compile()\n",
    "# View\n",
    "display(Image(graph.get_graph().draw_mermaid_png()))\n"
   ]
  },
  {
   "cell_type": "code",
   "execution_count": 25,
   "metadata": {},
   "outputs": [
    {
     "name": "stdout",
     "output_type": "stream",
     "text": [
      "inside create_blog. State: {'messages': [AIMessage(content=\" \\n\\nYou are a professional blog writer. You write high quality blogs on various topics related to productivity. Your task is to write a blog on \\nthe topic: How to form your own deep work ritual?. Write the blog as a normal human would write. Don't use complex words\\n\", additional_kwargs={}, response_metadata={})]}\n",
      "output {'messages': AIMessage(content='# How to Form Your Own Deep Work Ritual\\n\\nIn today\\'s fast-paced world, distractions are everywhere. From the constant ping of notifications to the endless scroll of social media, staying focused on meaningful work can feel like an uphill battle. Enter the concept of \"deep work\"—a state of focused, undistracted work that allows you to produce high-quality results in less time. But how do you achieve this elusive state? The answer lies in forming your own deep work ritual. Here\\'s how you can create a personalized routine that helps you dive deep into your work and emerge with a sense of accomplishment.\\n\\n## 1. Understand the Importance of Deep Work\\n\\nBefore you can form a deep work ritual, it\\'s crucial to understand why deep work matters. Deep work is about engaging in tasks that require your full attention and cognitive abilities. It\\'s the opposite of shallow work, which involves tasks that are often logistical and don\\'t require much thought. By prioritizing deep work, you can improve your productivity, enhance your skills, and achieve your goals more efficiently.\\n\\n## 2. Identify Your Peak Productivity Hours\\n\\nEveryone has different times of the day when they feel most alert and focused. For some, it\\'s the early morning hours; for others, it\\'s late at night. Pay attention to your energy levels throughout the day and identify when you\\'re most productive. This is the time you should reserve for deep work. By aligning your deep work sessions with your natural rhythms, you\\'ll be more likely to enter a state of flow.\\n\\n## 3. Create a Dedicated Workspace\\n\\nYour environment plays a significant role in your ability to focus. Designate a specific area for deep work, whether it\\'s a home office, a quiet corner of a library, or a cozy café. Make sure this space is free from distractions and equipped with everything you need to work efficiently. Over time, your brain will associate this space with deep work, making it easier to slip into a focused state.\\n\\n## 4. Set Clear Goals\\n\\nBefore you begin a deep work session, set clear, achievable goals. What do you want to accomplish during this time? Having a specific objective will help you stay focused and motivated. Break down larger tasks into smaller, manageable steps to avoid feeling overwhelmed. As you complete each step, you\\'ll build momentum and confidence.\\n\\n## 5. Establish a Pre-Work Ritual\\n\\nA pre-work ritual signals to your brain that it\\'s time to transition into deep work mode. This could be as simple as making a cup of tea, doing a few minutes of meditation, or reviewing your goals for the session. The key is consistency—perform the same ritual each time you prepare for deep work. Over time, this routine will become a powerful cue that helps you focus.\\n\\n## 6. Minimize Distractions\\n\\nDistractions are the enemy of deep work. Take proactive steps to minimize them. Turn off notifications on your phone and computer, close unnecessary tabs, and let others know you\\'re not to be disturbed. Consider using tools like website blockers or noise-canceling headphones to create a distraction-free environment.\\n\\n## 7. Practice Mindfulness\\n\\nMindfulness can enhance your ability to concentrate and stay present during deep work sessions. Incorporate mindfulness practices into your daily routine, such as deep breathing exercises or short meditation sessions. These practices can help you develop greater awareness and control over your attention.\\n\\n## 8. Schedule Breaks\\n\\nDeep work is mentally demanding, so it\\'s important to schedule regular breaks to recharge. The Pomodoro Technique, which involves working for 25 minutes followed by a 5-minute break, is a popular method. Use breaks to stretch, hydrate, or take a short walk. These activities can help refresh your mind and prevent burnout.\\n\\n## 9. Reflect and Adjust\\n\\nAfter each deep work session, take a few minutes to reflect on what went well and what could be improved. Did you achieve your goals? Were there any distractions? Use this reflection to adjust your ritual as needed. Over time, you\\'ll refine your routine and become more adept at entering a state of deep work.\\n\\n## Conclusion\\n\\nForming your own deep work ritual is a powerful way to enhance your productivity and achieve your goals. By understanding your peak productivity hours, creating a dedicated workspace, and minimizing distractions, you can cultivate an environment that supports focused, meaningful work. Remember, the key to success is consistency and reflection. As you practice your deep work ritual, you\\'ll develop the skills and habits needed to thrive in a world full of distractions.', additional_kwargs={'refusal': None}, response_metadata={'token_usage': {'completion_tokens': 900, 'prompt_tokens': 63, 'total_tokens': 963, 'completion_tokens_details': {'accepted_prediction_tokens': 0, 'audio_tokens': 0, 'reasoning_tokens': 0, 'rejected_prediction_tokens': 0}, 'prompt_tokens_details': {'audio_tokens': 0, 'cached_tokens': 0}}, 'model_name': 'gpt-4o-2024-08-06', 'system_fingerprint': 'fp_eb9dce56a8', 'finish_reason': 'stop', 'logprobs': None}, id='run-048c570d-7e2c-4abd-b38b-14260703457d-0', usage_metadata={'input_tokens': 63, 'output_tokens': 900, 'total_tokens': 963, 'input_token_details': {'audio': 0, 'cache_read': 0}, 'output_token_details': {'audio': 0, 'reasoning': 0}})}\n",
      "messages printing\n"
     ]
    },
    {
     "ename": "AttributeError",
     "evalue": "'tuple' object has no attribute 'pretty_print'",
     "output_type": "error",
     "traceback": [
      "\u001b[31m---------------------------------------------------------------------------\u001b[39m",
      "\u001b[31mAttributeError\u001b[39m                            Traceback (most recent call last)",
      "\u001b[36mCell\u001b[39m\u001b[36m \u001b[39m\u001b[32mIn[25]\u001b[39m\u001b[32m, line 5\u001b[39m\n\u001b[32m      3\u001b[39m \u001b[38;5;28mprint\u001b[39m(\u001b[33m\"\u001b[39m\u001b[33mmessages printing\u001b[39m\u001b[33m\"\u001b[39m)\n\u001b[32m      4\u001b[39m \u001b[38;5;28;01mfor\u001b[39;00m m \u001b[38;5;129;01min\u001b[39;00m output[\u001b[33m'\u001b[39m\u001b[33mmessages\u001b[39m\u001b[33m'\u001b[39m]:\n\u001b[32m----> \u001b[39m\u001b[32m5\u001b[39m     \u001b[43mm\u001b[49m\u001b[43m.\u001b[49m\u001b[43mpretty_print\u001b[49m()\n",
      "\u001b[31mAttributeError\u001b[39m: 'tuple' object has no attribute 'pretty_print'"
     ]
    }
   ],
   "source": [
    "output = graph.invoke({'messages': messages})\n",
    "print(\"output\", output)\n",
    "print(\"messages printing\")\n",
    "for m in output['messages']:\n",
    "    m.pretty_print()"
   ]
  },
  {
   "cell_type": "markdown",
   "metadata": {},
   "source": []
  }
 ],
 "metadata": {
  "kernelspec": {
   "display_name": "Python 3 (ipykernel)",
   "language": "python",
   "name": "python3"
  },
  "language_info": {
   "codemirror_mode": {
    "name": "ipython",
    "version": 3
   },
   "file_extension": ".py",
   "mimetype": "text/x-python",
   "name": "python",
   "nbconvert_exporter": "python",
   "pygments_lexer": "ipython3",
   "version": "3.12.8"
  }
 },
 "nbformat": 4,
 "nbformat_minor": 4
}
