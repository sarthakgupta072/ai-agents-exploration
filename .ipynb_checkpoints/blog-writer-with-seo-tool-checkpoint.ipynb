{
 "cells": [
  {
   "cell_type": "code",
   "execution_count": 1,
   "metadata": {},
   "outputs": [],
   "source": [
    "%%capture --no-stderr\n",
    "%pip install --quiet -U langgraph langchain_openai langchain_community langchain_core"
   ]
  },
  {
   "cell_type": "code",
   "execution_count": 2,
   "metadata": {},
   "outputs": [
    {
     "name": "stdin",
     "output_type": "stream",
     "text": [
      "OPENAI_API_KEY:  ········\n"
     ]
    }
   ],
   "source": [
    "import os, getpass\n",
    "\n",
    "def _set_env(var: str):\n",
    "    if not os.environ.get(var):\n",
    "        os.environ[var] = getpass.getpass(f\"{var}: \")\n",
    "\n",
    "_set_env(\"OPENAI_API_KEY\")"
   ]
  },
  {
   "cell_type": "code",
   "execution_count": 4,
   "metadata": {},
   "outputs": [],
   "source": [
    "from langchain_openai import ChatOpenAI\n",
    "llm = ChatOpenAI(model=\"gpt-4o\", temperature=0) "
   ]
  },
  {
   "cell_type": "markdown",
   "metadata": {},
   "source": [
    "### Using a SEO tool to find all the relevant SEO keywords and using them to form the article"
   ]
  },
  {
   "cell_type": "code",
   "execution_count": 8,
   "metadata": {},
   "outputs": [
    {
     "data": {
      "image/png": "[encoded data removed]",
      "text/plain": [
       "<IPython.core.display.Image object>"
      ]
     },
     "metadata": {},
     "output_type": "display_data"
    }
   ],
   "source": [
    "from email import message\n",
    "from typing import TypedDict\n",
    "from IPython.display import Image, display\n",
    "from langgraph.graph import START, END, MessagesState, StateGraph\n",
    "from langgraph.checkpoint.memory import MemorySaver\n",
    "from langchain_core.messages import AIMessage, HumanMessage, SystemMessage\n",
    "\n",
    "# Two nodes. SEO and Writer based on SEO\n",
    "\n",
    "class TypeDictState(TypedDict):\n",
    "    topic: str\n",
    "    content: str\n",
    "    seo_keywords: list[str]\n",
    "\n",
    "\n",
    "\n",
    "def seo_node(state: TypeDictState):\n",
    "    seo_prompt = \"\"\"\n",
    "    You are a SEO expert. You are given a {topic}. You need to get a list of keywords that are relevant to the topic.\n",
    "    Return the list of keywords.   \n",
    "    \"\"\"\n",
    "\n",
    "    messages = [SystemMessage(content=seo_prompt.format(state['topic'])) ]\n",
    "    output = llm.invok\n",
    "    return {\"seo_keywords\": messages}\n",
    "\n",
    "def writer_node(state: TypeDictState):\n",
    "    return {\"messages\": \"message\"}\n",
    "\n",
    "\n",
    "builder = StateGraph(TypeDictState)\n",
    "builder.add_node(\"seo_node\", seo_node)\n",
    "builder.add_node(\"writer_node\", writer_node)\n",
    "builder.add_edge(START, \"seo_node\")\n",
    "builder.add_edge(\"seo_node\", \"writer_node\")\n",
    "builder.add_edge(\"writer_node\", END)\n",
    "\n",
    "\n",
    "graph = builder.compile()\n",
    "\n",
    "# Display the graph\n",
    "display(Image(graph.get_graph().draw_mermaid_png()))\n"
   ]
  },
  {
   "cell_type": "markdown",
   "metadata": {},
   "source": []
  }
 ],
 "metadata": {
  "kernelspec": {
   "display_name": "Python 3 (ipykernel)",
   "language": "python",
   "name": "python3"
  },
  "language_info": {
   "codemirror_mode": {
    "name": "ipython",
    "version": 3
   },
   "file_extension": ".py",
   "mimetype": "text/x-python",
   "name": "python",
   "nbconvert_exporter": "python",
   "pygments_lexer": "ipython3",
   "version": "3.12.8"
  }
 },
 "nbformat": 4,
 "nbformat_minor": 4
}
