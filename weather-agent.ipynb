{
 "cells": [
  {
   "cell_type": "markdown",
   "metadata": {},
   "source": [
    "# Integrate weather tool"
   ]
  },
  {
   "cell_type": "code",
   "execution_count": 27,
   "metadata": {},
   "outputs": [],
   "source": [
    "%%capture --no-stderr\n",
    "%pip install --quiet -U langgraph langchain_openai langchain_community langchain_core"
   ]
  },
  {
   "cell_type": "code",
   "execution_count": 28,
   "metadata": {},
   "outputs": [],
   "source": [
    "import os, getpass\n",
    "\n",
    "def _set_env(var: str):\n",
    "    if not os.environ.get(var):\n",
    "        os.environ[var] = getpass.getpass(f\"{var}: \")\n",
    "\n",
    "_set_env(\"OPENAI_API_KEY\")"
   ]
  },
  {
   "cell_type": "code",
   "execution_count": 29,
   "metadata": {},
   "outputs": [],
   "source": [
    "from langchain_openai import ChatOpenAI\n",
    "llm = ChatOpenAI(model=\"gpt-4o\", temperature=0) "
   ]
  },
  {
   "cell_type": "code",
   "execution_count": 30,
   "metadata": {},
   "outputs": [],
   "source": [
    "from typing import TypedDict\n",
    "from IPython.display import Image, display\n",
    "from langgraph.graph import START, END, MessagesState, StateGraph\n",
    "from langgraph.checkpoint.memory import MemorySaver\n",
    "from langchain_core.messages import AIMessage, HumanMessage, SystemMessage\n",
    "from langchain_core.tools import tool\n",
    "from langgraph.prebuilt import ToolNode\n",
    "\n",
    "@tool\n",
    "def get_weather(loc):\n",
    "    \"\"\"Return the weather given a location\"\"\"\n",
    "    if loc == \"Jammu\":\n",
    "        return \"It's sunny in Jammu\"\n",
    "    else:\n",
    "        return \"I don't know the weather in \" + loc\n",
    "\n",
    "@tool    \n",
    "def get_forcast(loc):\n",
    "    \"\"\"Returns the forcast for a location\"\"\"\n",
    "    if loc == \"Jammu\":\n",
    "        return \"It's going to be raining in Jammu\"\n",
    "    else:\n",
    "        return \"I don't know the forcast in \" + loc\n",
    "    \n",
    "\n",
    "tools = [get_weather, get_forcast]\n",
    "tool_node = ToolNode(tools=tools)\n",
    "\n",
    "llm_with_tools = llm.bind_tools(tools)"
   ]
  },
  {
   "cell_type": "code",
   "execution_count": 31,
   "metadata": {},
   "outputs": [
    {
     "name": "stdout",
     "output_type": "stream",
     "text": [
      "output: content='The capital of India is New Delhi.' additional_kwargs={'refusal': None} response_metadata={'token_usage': {'completion_tokens': 10, 'prompt_tokens': 74, 'total_tokens': 84, 'completion_tokens_details': {'accepted_prediction_tokens': 0, 'audio_tokens': 0, 'reasoning_tokens': 0, 'rejected_prediction_tokens': 0}, 'prompt_tokens_details': {'audio_tokens': 0, 'cached_tokens': 0}}, 'model_name': 'gpt-4o-2024-08-06', 'system_fingerprint': 'fp_f9f4fb6dbf', 'finish_reason': 'stop', 'logprobs': None} id='run-0dc9bf6e-ad17-418e-9759-3a5dea00200b-0' usage_metadata={'input_tokens': 74, 'output_tokens': 10, 'total_tokens': 84, 'input_token_details': {'audio': 0, 'cache_read': 0}, 'output_token_details': {'audio': 0, 'reasoning': 0}}\n",
      "tools_calls: []\n"
     ]
    }
   ],
   "source": [
    "# Invoke the llm directly\n",
    "output = llm_with_tools.invoke(\"What's the the capital of India?\")\n",
    "print(\"output:\", output)\n",
    "print(\"tools_calls:\", output.tool_calls)"
   ]
  },
  {
   "cell_type": "code",
   "execution_count": 32,
   "metadata": {},
   "outputs": [
    {
     "name": "stdout",
     "output_type": "stream",
     "text": [
      "output: content='' additional_kwargs={'tool_calls': [{'id': 'call_55mzjWezuxw7YMk93zsmlSHJ', 'function': {'arguments': '{\"loc\":\"Jammu\"}', 'name': 'get_weather'}, 'type': 'function'}], 'refusal': None} response_metadata={'token_usage': {'completion_tokens': 16, 'prompt_tokens': 73, 'total_tokens': 89, 'completion_tokens_details': {'accepted_prediction_tokens': 0, 'audio_tokens': 0, 'reasoning_tokens': 0, 'rejected_prediction_tokens': 0}, 'prompt_tokens_details': {'audio_tokens': 0, 'cached_tokens': 0}}, 'model_name': 'gpt-4o-2024-08-06', 'system_fingerprint': 'fp_f9f4fb6dbf', 'finish_reason': 'tool_calls', 'logprobs': None} id='run-583cf32f-4e82-4b46-92ad-1dcfc33afa45-0' tool_calls=[{'name': 'get_weather', 'args': {'loc': 'Jammu'}, 'id': 'call_55mzjWezuxw7YMk93zsmlSHJ', 'type': 'tool_call'}] usage_metadata={'input_tokens': 73, 'output_tokens': 16, 'total_tokens': 89, 'input_token_details': {'audio': 0, 'cache_read': 0}, 'output_token_details': {'audio': 0, 'reasoning': 0}}\n",
      "tools_calls: [{'name': 'get_weather', 'args': {'loc': 'Jammu'}, 'id': 'call_55mzjWezuxw7YMk93zsmlSHJ', 'type': 'tool_call'}]\n"
     ]
    }
   ],
   "source": [
    "output = llm_with_tools.invoke(\"What's the weather in Jammu?\")\n",
    "print(\"output:\", output)\n",
    "print(\"tools_calls:\", output.tool_calls)\n",
    "\n",
    "# Comment\n",
    "\"\"\"\n",
    "When you invoke the llm with a tool, it only gives the tools_calls but do not execute the code automatically. \n",
    "To execute the code, you'd need to write the logic manually.\n",
    "In langgraph flow this gets handled automatically. :)\n",
    "You can also use `from langchain_core.runnables import RunnableWithTools` and AgentExecutor to run the tools automatically in langchain\n",
    "\"\"\"\n"
   ]
  },
  {
   "cell_type": "code",
   "execution_count": 33,
   "metadata": {},
   "outputs": [
    {
     "name": "stdout",
     "output_type": "stream",
     "text": [
      "entered\n",
      "\n",
      "Tool Call:\n",
      " {'name': 'get_weather', 'args': {'loc': 'Jammu'}, 'id': 'call_55mzjWezuxw7YMk93zsmlSHJ', 'type': 'tool_call'}\n",
      "Tool Name: get_weather Tool Args: {'loc': 'Jammu'}\n",
      "tool_args:\n",
      " {'loc': 'Jammu'}\n",
      "Tool Results: {'get_weather': \"It's sunny in Jammu\"}\n"
     ]
    }
   ],
   "source": [
    "if hasattr(output, \"tool_calls\"):\n",
    "    tool_results = {}\n",
    "    print(\"entered\\n\")\n",
    "    \n",
    "    for tool_call in output.tool_calls:\n",
    "        print(\"Tool Call:\\n\", tool_call)\n",
    "        tool_name = tool_call[\"name\"]\n",
    "        tool_args = tool_call[\"args\"]\n",
    "        print(\"Tool Name:\", tool_name, \"Tool Args:\", tool_args)\n",
    "        if tool_name == \"get_weather\":\n",
    "            print(\"tool_args:\\n\", tool_args)\n",
    "            result = get_weather.invoke(input=tool_args) # Execute the tool\n",
    "            tool_results[tool_name] = result\n",
    "\n",
    "    print(\"Tool Results:\", tool_results)\n",
    "else:\n",
    "    print(\"Output:\", output)"
   ]
  },
  {
   "cell_type": "markdown",
   "metadata": {},
   "source": [
    "## Using langgraph to invoke tools manually"
   ]
  },
  {
   "cell_type": "code",
   "execution_count": 34,
   "metadata": {},
   "outputs": [
    {
     "data": {
      "image/png": "[encoded data removed]",
      "text/plain": [
       "<IPython.core.display.Image object>"
      ]
     },
     "metadata": {},
     "output_type": "display_data"
    }
   ],
   "source": [
    "from typing import TypedDict\n",
    "from IPython.display import Image, display\n",
    "from langgraph.graph import START, END, MessagesState, StateGraph\n",
    "from langgraph.checkpoint.memory import MemorySaver\n",
    "from langchain_core.messages import AIMessage, HumanMessage, SystemMessage\n",
    "from langchain_core.tools import tool\n",
    "from langgraph.prebuilt import ToolNode, tools_condition\n",
    "\n",
    "\n",
    "# Create a node which calls llm with access to tools\n",
    "def tool_calling_llm(state):\n",
    "    return {\"messages\": llm_with_tools.invoke(state[\"messages\"])}\n",
    "\n",
    "\n",
    "builder = StateGraph(MessagesState)\n",
    "builder.add_node(\"tool_calling_llm\", tool_calling_llm)\n",
    "builder.add_node(\"tools\", ToolNode(tools=tools))\n",
    "builder.add_edge(START, \"tool_calling_llm\")\n",
    "builder.add_conditional_edges(\"tool_calling_llm\", \n",
    "                              # if latest message from the tool_calling_llm is a tool call, then call the tool_node\n",
    "                              tools_condition)\n",
    "\n",
    "builder.add_edge(\"tools\", END)\n",
    "\n",
    "graph = builder.compile()\n",
    "\n",
    "display(Image(graph.get_graph().draw_mermaid_png()))\n"
   ]
  },
  {
   "cell_type": "code",
   "execution_count": 35,
   "metadata": {},
   "outputs": [
    {
     "name": "stdout",
     "output_type": "stream",
     "text": [
      "output: {'messages': [HumanMessage(content='What is the forcast in Jammu?', additional_kwargs={}, response_metadata={}, id='294bb1db-b3aa-45b2-8dae-08d3d3780726'), AIMessage(content='', additional_kwargs={'tool_calls': [{'id': 'call_NiMMTG6IdAsi9lPtf0gQNlT1', 'function': {'arguments': '{\"loc\":\"Jammu\"}', 'name': 'get_forcast'}, 'type': 'function'}], 'refusal': None}, response_metadata={'token_usage': {'completion_tokens': 17, 'prompt_tokens': 75, 'total_tokens': 92, 'completion_tokens_details': {'accepted_prediction_tokens': 0, 'audio_tokens': 0, 'reasoning_tokens': 0, 'rejected_prediction_tokens': 0}, 'prompt_tokens_details': {'audio_tokens': 0, 'cached_tokens': 0}}, 'model_name': 'gpt-4o-2024-08-06', 'system_fingerprint': 'fp_f9f4fb6dbf', 'finish_reason': 'tool_calls', 'logprobs': None}, id='run-4cbcc878-146a-49b4-ae7e-a88167ef0aec-0', tool_calls=[{'name': 'get_forcast', 'args': {'loc': 'Jammu'}, 'id': 'call_NiMMTG6IdAsi9lPtf0gQNlT1', 'type': 'tool_call'}], usage_metadata={'input_tokens': 75, 'output_tokens': 17, 'total_tokens': 92, 'input_token_details': {'audio': 0, 'cache_read': 0}, 'output_token_details': {'audio': 0, 'reasoning': 0}}), ToolMessage(content=\"It's going to be raining in Jammu\", name='get_forcast', id='d1d851d3-b8c8-4138-bc0f-a0789f702d58', tool_call_id='call_NiMMTG6IdAsi9lPtf0gQNlT1')]}\n",
      "messages [HumanMessage(content='What is the forcast in Jammu?', additional_kwargs={}, response_metadata={}, id='294bb1db-b3aa-45b2-8dae-08d3d3780726'), AIMessage(content='', additional_kwargs={'tool_calls': [{'id': 'call_NiMMTG6IdAsi9lPtf0gQNlT1', 'function': {'arguments': '{\"loc\":\"Jammu\"}', 'name': 'get_forcast'}, 'type': 'function'}], 'refusal': None}, response_metadata={'token_usage': {'completion_tokens': 17, 'prompt_tokens': 75, 'total_tokens': 92, 'completion_tokens_details': {'accepted_prediction_tokens': 0, 'audio_tokens': 0, 'reasoning_tokens': 0, 'rejected_prediction_tokens': 0}, 'prompt_tokens_details': {'audio_tokens': 0, 'cached_tokens': 0}}, 'model_name': 'gpt-4o-2024-08-06', 'system_fingerprint': 'fp_f9f4fb6dbf', 'finish_reason': 'tool_calls', 'logprobs': None}, id='run-4cbcc878-146a-49b4-ae7e-a88167ef0aec-0', tool_calls=[{'name': 'get_forcast', 'args': {'loc': 'Jammu'}, 'id': 'call_NiMMTG6IdAsi9lPtf0gQNlT1', 'type': 'tool_call'}], usage_metadata={'input_tokens': 75, 'output_tokens': 17, 'total_tokens': 92, 'input_token_details': {'audio': 0, 'cache_read': 0}, 'output_token_details': {'audio': 0, 'reasoning': 0}}), ToolMessage(content=\"It's going to be raining in Jammu\", name='get_forcast', id='d1d851d3-b8c8-4138-bc0f-a0789f702d58', tool_call_id='call_NiMMTG6IdAsi9lPtf0gQNlT1')]\n"
     ]
    }
   ],
   "source": [
    "output = graph.invoke({\"messages\": \"What is the forcast in Jammu?\"})\n",
    "print(\"output:\", output)\n",
    "print(\"messages\", output[\"messages\"])"
   ]
  },
  {
   "cell_type": "code",
   "execution_count": 36,
   "metadata": {},
   "outputs": [
    {
     "name": "stdout",
     "output_type": "stream",
     "text": [
      "================================\u001b[1m Human Message \u001b[0m=================================\n",
      "\n",
      "What is the forcast in Jammu?\n",
      "==================================\u001b[1m Ai Message \u001b[0m==================================\n",
      "Tool Calls:\n",
      "  get_forcast (call_NiMMTG6IdAsi9lPtf0gQNlT1)\n",
      " Call ID: call_NiMMTG6IdAsi9lPtf0gQNlT1\n",
      "  Args:\n",
      "    loc: Jammu\n",
      "=================================\u001b[1m Tool Message \u001b[0m=================================\n",
      "Name: get_forcast\n",
      "\n",
      "It's going to be raining in Jammu\n"
     ]
    }
   ],
   "source": [
    "for m in output[\"messages\"]:\n",
    "    m.pretty_print()"
   ]
  }
 ],
 "metadata": {
  "kernelspec": {
   "display_name": "Python 3 (ipykernel)",
   "language": "python",
   "name": "python3"
  },
  "language_info": {
   "codemirror_mode": {
    "name": "ipython",
    "version": 3
   },
   "file_extension": ".py",
   "mimetype": "text/x-python",
   "name": "python",
   "nbconvert_exporter": "python",
   "pygments_lexer": "ipython3",
   "version": "3.12.8"
  }
 },
 "nbformat": 4,
 "nbformat_minor": 4
}
